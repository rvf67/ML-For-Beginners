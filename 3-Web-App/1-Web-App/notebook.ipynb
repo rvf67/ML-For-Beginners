import pandas as pd
import numpy as np

ufos = pd.read_csv('./data/ufos.csv')
ufos.head()
